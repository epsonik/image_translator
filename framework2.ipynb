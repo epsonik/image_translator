{
 "cells": [
  {
   "cell_type": "code",
   "execution_count": null,
   "metadata": {
    "collapsed": true
   },
   "outputs": [],
   "source": []
  },
  {
   "cell_type": "code",
   "execution_count": null,
   "outputs": [],
   "source": [
    "from dataloader import *\n",
    "from  config_translator import *\n",
    "from data_processor import preprocess_data"
   ],
   "metadata": {
    "collapsed": false,
    "pycharm": {
     "name": "#%%\n"
    }
   }
  },
  {
   "cell_type": "code",
   "execution_count": null,
   "outputs": [],
   "source": [
    "data = DataLoader(config_mixed_flickr8k_flickr8k_inception_oneHot)"
   ],
   "metadata": {
    "collapsed": false,
    "pycharm": {
     "name": "#%%\n"
    }
   }
  },
  {
   "cell_type": "code",
   "execution_count": null,
   "outputs": [],
   "source": [
    "data=preprocess_data(data)"
   ],
   "metadata": {
    "collapsed": false,
    "pycharm": {
     "name": "#%%\n"
    }
   }
  },
  {
   "cell_type": "code",
   "execution_count": null,
   "outputs": [],
   "source": [
    "# class ModelImpl:\n",
    "#     def __init__(self, data):\n",
    "#         self.data=data\n",
    "#         model = Sequential()\n",
    "#\n",
    "#         model.add(Embedding(in_vocab_size, n_units, input_length=in_length, mask_zero=True))\n",
    "#         model.add(LSTM(n_units))\n",
    "#         model.add(RepeatVector(out_length))\n",
    "#         model.add(LSTM(n_units, return_sequences=True))\n",
    "#         model.add(TimeDistributed(Dense(out_vocab_size, activation='softmax')))\n",
    "#         model.compile(optimizer='adam', loss='categorical_crossentropy')\n",
    "#         # summarize defined model\n",
    "#         print(model.summary())\n",
    "#         plot_model(model, to_file='model.png', show_shapes=True)\n",
    "#         self.setup()\n",
    "#     def optimizer(self):\n",
    "#         return Adam(learning_rate=0.001, beta_1=0.9, beta_2=0.999, epsilon=1e-08, decay=0.0)\n",
    "#\n",
    "#     def setup(self):\n",
    "#         # model.optimizer.lr = 0.001\n",
    "#         self.epochs = 100\n",
    "#         self.number_pics_per_bath = 3\n",
    "#         self.steps = len(self.data.train_captions_wrapped) // self.number_pics_per_bath\n",
    "#\n",
    "#     def train(self):\n",
    "#         model_weights_path=\"./\" + self.data.configuration[\"data_name\"] + self.data.configuration[\"model_save_dir\"]\n",
    "#         if self.data.configuration[\"train_model\"]:\n",
    "#             es = EarlyStopping(monitor='loss', min_delta=0.001, patience=3)\n",
    "#             filepath = model_weights_path + self.data.configuration[\"model_save_path\"]\n",
    "#             checkpoint = ModelCheckpoint(filepath, monitor='loss', verbose=1, save_best_only=True,\n",
    "#                                          mode='min', save_weights_only=False)\n",
    "#             callbacks_list = [checkpoint, es, CSVLogger(\"./\" + self.data.configuration[\"data_name\"] +'/logs.csv', separator=\",\", append=True),]\n",
    "#             if self.data.configuration[\"continue_training\"]:\n",
    "#                 self.model = load_model(filepath)\n",
    "#                 print(\"New model loaded\")\n",
    "#\n",
    "#             self.model.fit(trainX, trainY, epochs=self.epochs,\n",
    "#                            steps_per_epoch=self.steps,\n",
    "#                            callbacks=[callbacks_list],\n",
    "#                            verbose=2,validation_data=(testX, testY))\n",
    "#             if self.data.configuration[\"save_model\"]:\n",
    "#                 writepath = model_weights_path+ \"/\"+'model' + '.h5'\n",
    "#                 self.model.save(writepath)\n",
    "#                 self.model.save_weights(model_weights_path\n",
    "#                                         + self.data.configuration[\"model_save_path\"])\n",
    "#         else:\n",
    "#             self.model.load_weights(model_weights_path\n",
    "#                                         +self.data.configuration[\"model_save_path\"])\n",
    "#\n",
    "#     def evaluate(self):\n",
    "#         expected, results = prepare_for_evaluation(self.data.encoded_images_test, self.data.test_captions_mapping,\n",
    "#                                                    self.data.wordtoix, self.data.ixtoword, self.data.max_length,\n",
    "#                                                    self.model, self.data.configuration[\"images_processor\"])\n",
    "#         out = calculate_results(expected, results, self.data.configuration)\n",
    "#         print(out)"
   ],
   "metadata": {
    "collapsed": false,
    "pycharm": {
     "name": "#%%\n"
    }
   }
  }
 ],
 "metadata": {
  "kernelspec": {
   "display_name": "Python 3",
   "language": "python",
   "name": "python3"
  },
  "language_info": {
   "codemirror_mode": {
    "name": "ipython",
    "version": 2
   },
   "file_extension": ".py",
   "mimetype": "text/x-python",
   "name": "python",
   "nbconvert_exporter": "python",
   "pygments_lexer": "ipython2",
   "version": "2.7.6"
  }
 },
 "nbformat": 4,
 "nbformat_minor": 0
}