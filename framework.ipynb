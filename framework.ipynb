{
 "cells": [
  {
   "cell_type": "code",
   "execution_count": 1,
   "id": "b2358b39",
   "metadata": {},
   "outputs": [],
   "source": [
    "from dataloader import *\n",
    "from data_processor import preprocess_data\n",
    "from tensorflow.keras.optimizers import Adam\n",
    "from keras.models import Model, load_model\n",
    "from tensorflow.keras.callbacks import ModelCheckpoint, EarlyStopping, CSVLogger\n",
    "from eval_utils import calculate_results, prepare_for_evaluation\n",
    "from keras.utils.vis_utils import plot_model\n",
    "from keras.layers import LSTM\n",
    "from keras.layers import RepeatVector\n",
    "from keras.layers import TimeDistributed\n",
    "from keras.callbacks import ModelCheckpoint\n",
    "from keras.models import Sequential\n",
    "from keras.layers import Dense\n",
    "from keras.layers import Embedding"
   ]
  },
  {
   "cell_type": "code",
   "execution_count": 2,
   "id": "d4ac0b16",
   "metadata": {
    "pycharm": {
     "name": "#%%\n"
    }
   },
   "outputs": [
    {
     "name": "stdout",
     "output_type": "stream",
     "text": [
      "Loading dataset\n",
      "Loading train dataset\n",
      "Loading images splits\n",
      "Images splits loaded\n",
      "Number of train images:  6000\n",
      "Number of test images:  1000\n",
      "Loading all captions\n",
      "All captions loaded\n",
      "Nuber of all captions:  8092\n",
      "Loading captions splits\n",
      "Captions splits loaded\n",
      "Number of train captions:  6000\n",
      "Number of test test:  1000\n",
      "Loading test dataset\n",
      "Loading images splits\n",
      "Images splits loaded\n",
      "Number of train images:  6000\n",
      "Number of test images:  1000\n",
      "Loading all captions\n",
      "All captions loaded\n",
      "Nuber of all captions:  8092\n",
      "Loading captions splits\n",
      "Captions splits loaded\n",
      "Number of train captions:  6000\n",
      "Number of test test:  1000\n"
     ]
    }
   ],
   "source": [
    "data = DataLoader(config_mixed_flickr8k_flickr8k_inception_oneHot)"
   ]
  },
  {
   "cell_type": "code",
   "execution_count": 1,
   "outputs": [
    {
     "ename": "NameError",
     "evalue": "name 'preprocess_data' is not defined",
     "output_type": "error",
     "traceback": [
      "\u001B[0;31m---------------------------------------------------------------------------\u001B[0m",
      "\u001B[0;31mNameError\u001B[0m                                 Traceback (most recent call last)",
      "\u001B[0;32m/var/folders/6f/kl4hyt6j101gbd00913mjsr80000gn/T/ipykernel_7429/821833805.py\u001B[0m in \u001B[0;36m<module>\u001B[0;34m\u001B[0m\n\u001B[0;32m----> 1\u001B[0;31m \u001B[0mdata\u001B[0m\u001B[0;34m=\u001B[0m\u001B[0mpreprocess_data\u001B[0m\u001B[0;34m(\u001B[0m\u001B[0mdata\u001B[0m\u001B[0;34m)\u001B[0m\u001B[0;34m\u001B[0m\u001B[0;34m\u001B[0m\u001B[0m\n\u001B[0m",
      "\u001B[0;31mNameError\u001B[0m: name 'preprocess_data' is not defined"
     ]
    }
   ],
   "source": [
    "data=preprocess_data(data)"
   ],
   "metadata": {
    "collapsed": false,
    "pycharm": {
     "name": "#%%\n"
    }
   }
  },
  {
   "cell_type": "code",
   "execution_count": null,
   "outputs": [],
   "source": [
    "# class ModelImpl:\n",
    "#     def __init__(self, data):\n",
    "#         self.data=data\n",
    "#         model = Sequential()\n",
    "#\n",
    "#         model.add(Embedding(in_vocab_size, n_units, input_length=in_length, mask_zero=True))\n",
    "#         model.add(LSTM(n_units))\n",
    "#         model.add(RepeatVector(out_length))\n",
    "#         model.add(LSTM(n_units, return_sequences=True))\n",
    "#         model.add(TimeDistributed(Dense(out_vocab_size, activation='softmax')))\n",
    "#         model.compile(optimizer='adam', loss='categorical_crossentropy')\n",
    "#         # summarize defined model\n",
    "#         print(model.summary())\n",
    "#         plot_model(model, to_file='model.png', show_shapes=True)\n",
    "#         self.setup()\n",
    "#     def optimizer(self):\n",
    "#         return Adam(learning_rate=0.001, beta_1=0.9, beta_2=0.999, epsilon=1e-08, decay=0.0)\n",
    "#\n",
    "#     def setup(self):\n",
    "#         # model.optimizer.lr = 0.001\n",
    "#         self.epochs = 100\n",
    "#         self.number_pics_per_bath = 3\n",
    "#         self.steps = len(self.data.train_captions_wrapped) // self.number_pics_per_bath\n",
    "#\n",
    "#     def train(self):\n",
    "#         model_weights_path=\"./\" + self.data.configuration[\"data_name\"] + self.data.configuration[\"model_save_dir\"]\n",
    "#         if self.data.configuration[\"train_model\"]:\n",
    "#             es = EarlyStopping(monitor='loss', min_delta=0.001, patience=3)\n",
    "#             filepath = model_weights_path + self.data.configuration[\"model_save_path\"]\n",
    "#             checkpoint = ModelCheckpoint(filepath, monitor='loss', verbose=1, save_best_only=True,\n",
    "#                                          mode='min', save_weights_only=False)\n",
    "#             callbacks_list = [checkpoint, es, CSVLogger(\"./\" + self.data.configuration[\"data_name\"] +'/logs.csv', separator=\",\", append=True),]\n",
    "#             if self.data.configuration[\"continue_training\"]:\n",
    "#                 self.model = load_model(filepath)\n",
    "#                 print(\"New model loaded\")\n",
    "#\n",
    "#             self.model.fit(trainX, trainY, epochs=self.epochs,\n",
    "#                            steps_per_epoch=self.steps,\n",
    "#                            callbacks=[callbacks_list],\n",
    "#                            verbose=2,validation_data=(testX, testY))\n",
    "#             if self.data.configuration[\"save_model\"]:\n",
    "#                 writepath = model_weights_path+ \"/\"+'model' + '.h5'\n",
    "#                 self.model.save(writepath)\n",
    "#                 self.model.save_weights(model_weights_path\n",
    "#                                         + self.data.configuration[\"model_save_path\"])\n",
    "#         else:\n",
    "#             self.model.load_weights(model_weights_path\n",
    "#                                         +self.data.configuration[\"model_save_path\"])\n",
    "#\n",
    "#     def evaluate(self):\n",
    "#         expected, results = prepare_for_evaluation(self.data.encoded_images_test, self.data.test_captions_mapping,\n",
    "#                                                    self.data.wordtoix, self.data.ixtoword, self.data.max_length,\n",
    "#                                                    self.model, self.data.configuration[\"images_processor\"])\n",
    "#         out = calculate_results(expected, results, self.data.configuration)\n",
    "#         print(out)"
   ],
   "metadata": {
    "collapsed": false,
    "pycharm": {
     "name": "#%%\n"
    }
   }
  }
 ],
 "metadata": {
  "kernelspec": {
   "display_name": "framework",
   "language": "python",
   "name": "framework"
  },
  "language_info": {
   "codemirror_mode": {
    "name": "ipython",
    "version": 3
   },
   "file_extension": ".py",
   "mimetype": "text/x-python",
   "name": "python",
   "nbconvert_exporter": "python",
   "pygments_lexer": "ipython3",
   "version": "3.8.10"
  }
 },
 "nbformat": 4,
 "nbformat_minor": 5
}